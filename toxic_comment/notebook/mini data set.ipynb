{
 "cells": [
  {
   "cell_type": "code",
   "execution_count": 2,
   "metadata": {},
   "outputs": [],
   "source": [
    "import csv\n",
    "\n",
    "with open(\"../data/train.csv\") as input_csv_file, open(\"../data/mini_train.csv\", \"w\") as output_csv_file:\n",
    "    reader = csv.reader(input_csv_file)\n",
    "    writer = csv.writer(output_csv_file)\n",
    "    \n",
    "    for i, row in enumerate(reader):\n",
    "        writer.writerow(row)\n",
    "        if i == 1280:\n",
    "            break\n",
    "            \n",
    "with open(\"../data/test.csv\") as input_csv_file, open(\"../data/mini_test.csv\", \"w\") as output_csv_file:\n",
    "    reader = csv.reader(input_csv_file)\n",
    "    writer = csv.writer(output_csv_file)\n",
    "    \n",
    "    for i, row in enumerate(reader):\n",
    "        writer.writerow(row)\n",
    "        if i == 640:\n",
    "            break"
   ]
  },
  {
   "cell_type": "code",
   "execution_count": null,
   "metadata": {},
   "outputs": [],
   "source": []
  }
 ],
 "metadata": {
  "kernelspec": {
   "display_name": "Python 3",
   "language": "python",
   "name": "python3"
  },
  "language_info": {
   "codemirror_mode": {
    "name": "ipython",
    "version": 3
   },
   "file_extension": ".py",
   "mimetype": "text/x-python",
   "name": "python",
   "nbconvert_exporter": "python",
   "pygments_lexer": "ipython3",
   "version": "3.5.6"
  }
 },
 "nbformat": 4,
 "nbformat_minor": 4
}

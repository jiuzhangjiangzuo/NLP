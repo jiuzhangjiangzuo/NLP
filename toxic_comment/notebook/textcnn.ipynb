{
 "cells": [
  {
   "cell_type": "code",
   "execution_count": 1,
   "metadata": {},
   "outputs": [],
   "source": [
    "from tensorflow import keras\n",
    "from keras import layers\n",
    "from keras.models import Sequential\n",
    "from keras.preprocessing.sequence import pad_sequences\n",
    "from keras.layers import Embedding, Conv1D, GlobalMaxPooling1D, Dense, Dropout, Flatten, MaxPooling1D, Input, Concatenate\n",
    "from plot_keras_history import plot_history\n",
    "import matplotlib.pyplot as plt"
   ]
  },
  {
   "cell_type": "code",
   "execution_count": 70,
   "metadata": {},
   "outputs": [],
   "source": [
    "class TextCNN(object):\n",
    "    def __init__(self, classes, config):\n",
    "        self.models = {}\n",
    "        self.classes = classes\n",
    "        self.num_class = len(classes)\n",
    "        self.config = config\n",
    "        self.model = self._build()\n",
    "\n",
    "    def _build(self):\n",
    "        model = Sequential()\n",
    "        model.add(Embedding(self.config['vocab_size'], self.config['embedding_dim'], \n",
    "                                input_length=self.config['maxlen'],\n",
    "                                embeddings_initializer=\"uniform\", trainable=True))\n",
    "        model.add(Conv1D(128, 7, activation='relu',padding='same'))\n",
    "        model.add(MaxPooling1D())\n",
    "        model.add(Conv1D(256, 5, activation='relu',padding='same'))\n",
    "        model.add(MaxPooling1D())\n",
    "        model.add(Conv1D(512, 3, activation='relu',padding='same'))\n",
    "        model.add(MaxPooling1D())\n",
    "        model.add(Flatten())\n",
    "        model.add(Dense(128, activation='relu'))\n",
    "        model.add(Dropout(0.5))\n",
    "        model.add(Dense(self.num_class, activation=None))\n",
    "        model.add(Dense(self.num_class, activation='sigmoid'))\n",
    "        model.compile(optimizer='adam',\n",
    "                      loss='binary_crossentropy',\n",
    "                      metrics=['accuracy'])\n",
    "        model.summary()\n",
    "        return model\n",
    "\n",
    "    def fit(self, train_x, train_y, validate_x, validate_y):\n",
    "        history = self.model.fit(train_x, train_y,\n",
    "                            epochs=self.config['epochs'],\n",
    "                            verbose=True,\n",
    "                            validation_data=(validate_x, validate_y),\n",
    "                            batch_size=self.config['batch_size'])\n",
    "        return history"
   ]
  },
  {
   "cell_type": "code",
   "execution_count": 43,
   "metadata": {},
   "outputs": [],
   "source": [
    "import yaml\n",
    "\n",
    "with open(\"../config/cnn_config.yaml\", 'r') as config_file:\n",
    "    try:\n",
    "        config = yaml.safe_load(config_file)\n",
    "    except yaml.YAMLError as err:\n",
    "        print(err)\n",
    "\n",
    "config['training']['embedding_dim'] = 32\n",
    "config['training']['maxlen'] = 8"
   ]
  },
  {
   "cell_type": "code",
   "execution_count": 10,
   "metadata": {},
   "outputs": [],
   "source": [
    "import re\n",
    "import string\n",
    "import pandas as pd\n",
    "import numpy as np\n",
    "from sklearn.model_selection import train_test_split\n",
    "\n",
    "def clean_text(text):\n",
    "    text = text.strip().lower().replace('\\n', '')\n",
    "    # tokenization\n",
    "    words = re.split(r'\\W+', text)  # or just words = text.split()\n",
    "    # filter punctuation\n",
    "    filter_table = str.maketrans('', '', string.punctuation)\n",
    "    clean_words = [w.translate(filter_table) for w in words if len(w.translate(filter_table))]\n",
    "    return clean_words\n",
    "\n",
    "data_df = pd.read_csv('../data/train.csv')\n",
    "data_df[config['preprocessing']['input_text_column']].fillna(\"unknown\", inplace=True)\n",
    "X = data_df[config['preprocessing']['input_text_column']].apply(clean_text).values"
   ]
  },
  {
   "cell_type": "markdown",
   "metadata": {},
   "source": [
    "# 构建词汇表"
   ]
  },
  {
   "cell_type": "code",
   "execution_count": 22,
   "metadata": {},
   "outputs": [],
   "source": [
    "word2ind = {}\n",
    "ind2word = {}\n",
    "specialchars = ['<pad>','<unk>']\n",
    "\n",
    "def addword(word2ind,ind2word,word):\n",
    "    if word in word2ind:\n",
    "        return \n",
    "    ind2word[len(word2ind)] = word\n",
    "    word2ind[word] = len(word2ind)\n",
    "\n",
    "\n",
    "\n",
    "for one in specialchars:\n",
    "    addword(word2ind,ind2word,one)\n",
    "    \n",
    "for sent in X:\n",
    "    for word in sent:\n",
    "        addword(word2ind,ind2word,word)"
   ]
  },
  {
   "cell_type": "code",
   "execution_count": 23,
   "metadata": {},
   "outputs": [],
   "source": [
    "Y = data_df.drop([config['preprocessing']['input_id_column'], config['preprocessing']['input_text_column']], 1).values"
   ]
  },
  {
   "cell_type": "markdown",
   "metadata": {},
   "source": [
    "# 把文字改造成id"
   ]
  },
  {
   "cell_type": "code",
   "execution_count": 24,
   "metadata": {},
   "outputs": [],
   "source": [
    "train_x_ids = []\n",
    "train_y = Y\n",
    "for sent in X:\n",
    "    indsent = [word2ind.get(i,word2ind['<unk>']) for i in sent]\n",
    "    train_x_ids.append(indsent)\n",
    "\n",
    "train_x = np.array(train_x_ids)"
   ]
  },
  {
   "cell_type": "code",
   "execution_count": 51,
   "metadata": {},
   "outputs": [],
   "source": [
    "# Batch对齐：用<pad>补齐所有batch的序列长度\n",
    "train_x = keras.preprocessing.sequence.pad_sequences(train_x, maxlen=config['training']['maxlen'], padding='post',value=word2ind['<pad>'])"
   ]
  },
  {
   "cell_type": "code",
   "execution_count": 52,
   "metadata": {},
   "outputs": [],
   "source": [
    "train_x_in, validate_x_in, train_y_in, validate_y_in = train_test_split(\n",
    "                train_x, train_y,\n",
    "                test_size=config['preprocessing']['split_ratio'],\n",
    "                random_state=config['preprocessing']['random_seed'])"
   ]
  },
  {
   "cell_type": "code",
   "execution_count": 71,
   "metadata": {},
   "outputs": [
    {
     "name": "stdout",
     "output_type": "stream",
     "text": [
      "Model: \"sequential_10\"\n",
      "_________________________________________________________________\n",
      "Layer (type)                 Output Shape              Param #   \n",
      "=================================================================\n",
      "embedding_7 (Embedding)      (None, 8, 32)             6739360   \n",
      "_________________________________________________________________\n",
      "conv1d_21 (Conv1D)           (None, 8, 128)            28800     \n",
      "_________________________________________________________________\n",
      "max_pooling1d_21 (MaxPooling (None, 4, 128)            0         \n",
      "_________________________________________________________________\n",
      "conv1d_22 (Conv1D)           (None, 4, 256)            164096    \n",
      "_________________________________________________________________\n",
      "max_pooling1d_22 (MaxPooling (None, 2, 256)            0         \n",
      "_________________________________________________________________\n",
      "conv1d_23 (Conv1D)           (None, 2, 512)            393728    \n",
      "_________________________________________________________________\n",
      "max_pooling1d_23 (MaxPooling (None, 1, 512)            0         \n",
      "_________________________________________________________________\n",
      "flatten_5 (Flatten)          (None, 512)               0         \n",
      "_________________________________________________________________\n",
      "dense_21 (Dense)             (None, 128)               65664     \n",
      "_________________________________________________________________\n",
      "dropout_7 (Dropout)          (None, 128)               0         \n",
      "_________________________________________________________________\n",
      "dense_22 (Dense)             (None, 6)                 774       \n",
      "_________________________________________________________________\n",
      "dense_23 (Dense)             (None, 6)                 42        \n",
      "=================================================================\n",
      "Total params: 7,392,464\n",
      "Trainable params: 7,392,464\n",
      "Non-trainable params: 0\n",
      "_________________________________________________________________\n"
     ]
    }
   ],
   "source": [
    "config['training']['vocab_size'] = len(word2ind.keys())\n",
    "textcnn = TextCNN(config['preprocessing']['classes'], config['training'])"
   ]
  },
  {
   "cell_type": "code",
   "execution_count": 72,
   "metadata": {},
   "outputs": [
    {
     "name": "stdout",
     "output_type": "stream",
     "text": [
      "8\n"
     ]
    },
    {
     "data": {
      "text/plain": [
       "(111699, 6)"
      ]
     },
     "execution_count": 72,
     "metadata": {},
     "output_type": "execute_result"
    }
   ],
   "source": [
    "print(len(train_x_in[0]))\n",
    "train_x[0]\n",
    "train_y_in.shape"
   ]
  },
  {
   "cell_type": "code",
   "execution_count": 73,
   "metadata": {},
   "outputs": [
    {
     "name": "stdout",
     "output_type": "stream",
     "text": [
      "3491/3491 [==============================] - 298s 85ms/step - accuracy: 0.9484 - loss: 0.1505 - val_accuracy: 0.9938 - val_loss: 0.1420\n"
     ]
    }
   ],
   "source": [
    "history = textcnn.fit(train_x_in, train_y_in, validate_x_in, validate_y_in)"
   ]
  },
  {
   "cell_type": "code",
   "execution_count": 78,
   "metadata": {},
   "outputs": [
    {
     "data": {
      "text/plain": [
       "[0.15051141381263733]"
      ]
     },
     "execution_count": 78,
     "metadata": {},
     "output_type": "execute_result"
    }
   ],
   "source": [
    "history.history['loss']"
   ]
  },
  {
   "cell_type": "code",
   "execution_count": 87,
   "metadata": {},
   "outputs": [],
   "source": [
    "probs = textcnn.model.predict(train_x_in[0:10])"
   ]
  },
  {
   "cell_type": "code",
   "execution_count": 90,
   "metadata": {},
   "outputs": [
    {
     "data": {
      "text/plain": [
       "array([[False, False, False, False, False, False],\n",
       "       [False, False, False, False, False, False],\n",
       "       [False, False, False, False, False, False],\n",
       "       [False, False, False, False, False, False],\n",
       "       [False, False, False, False, False, False],\n",
       "       [False, False, False, False, False, False],\n",
       "       [False, False, False, False, False, False],\n",
       "       [False, False, False, False, False, False],\n",
       "       [False, False, False, False, False, False],\n",
       "       [False, False, False, False, False, False]])"
      ]
     },
     "execution_count": 90,
     "metadata": {},
     "output_type": "execute_result"
    }
   ],
   "source": [
    "probs >= 0.5"
   ]
  },
  {
   "cell_type": "code",
   "execution_count": null,
   "metadata": {},
   "outputs": [],
   "source": []
  }
 ],
 "metadata": {
  "kernelspec": {
   "display_name": "Python 3",
   "language": "python",
   "name": "python3"
  },
  "language_info": {
   "codemirror_mode": {
    "name": "ipython",
    "version": 3
   },
   "file_extension": ".py",
   "mimetype": "text/x-python",
   "name": "python",
   "nbconvert_exporter": "python",
   "pygments_lexer": "ipython3",
   "version": "3.5.6"
  }
 },
 "nbformat": 4,
 "nbformat_minor": 4
}
